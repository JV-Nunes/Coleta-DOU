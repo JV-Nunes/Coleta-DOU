{
 "cells": [
  {
   "cell_type": "code",
   "execution_count": null,
   "metadata": {
    "colab": {
     "base_uri": "https://localhost:8080/"
    },
    "id": "OqU8Oyc65AtP",
    "outputId": "6514c484-cc9d-4842-b3ee-4fc37a120843"
   },
   "outputs": [
    {
     "name": "stdout",
     "output_type": "stream",
     "text": [
      "Please visit this URL to authorize this application: https://accounts.google.com/o/oauth2/auth?response_type=code&client_id=262006177488-3425ks60hkk80fssi9vpohv88g6q1iqd.apps.googleusercontent.com&redirect_uri=urn%3Aietf%3Awg%3Aoauth%3A2.0%3Aoob&scope=https%3A%2F%2Fwww.googleapis.com%2Fauth%2Fcloud-platform&state=LJLS1enI7P68oZYCbYeoJJZJMKRUAl&prompt=consent&access_type=offline\n",
      "Enter the authorization code: 4/1AX4XfWi35DAjN_JUk1evWNvBbMt54Ag33EboRZd0LAU7qLh67j9ORV8HkQs\n"
     ]
    },
    {
     "name": "stderr",
     "output_type": "stream",
     "text": [
      "Downloading: 100%|██████████| 156720/156720 [00:12<00:00, 12244.80rows/s]\n"
     ]
    }
   ],
   "source": [
    "import pandas as pd\n",
    "import basedosdados as bd\n",
    "# Para carregar o dado direto no pandas\n",
    "df = bd.read_table(dataset_id='br_imprensa_nacional_dou', \n",
    "            table_id='secao_1',\n",
    "            billing_project_id='projeto-sql-318413')"
   ]
  },
  {
   "cell_type": "code",
   "execution_count": null,
   "metadata": {
    "id": "HLIiMVteFlQK"
   },
   "outputs": [],
   "source": [
    "pd.set_option('display.max_colwidth', None)"
   ]
  },
  {
   "cell_type": "code",
   "execution_count": null,
   "metadata": {
    "id": "bb47VvKm5ZTC"
   },
   "outputs": [],
   "source": [
    "def secao_1_inteira(data):\n",
    "  df1=df[df['data_publicacao'].astype(str).str.contains(data,regex=True,na=False)]\n",
    "  if (len(df1) != 0):\n",
    "    return df1\n",
    "  else: \n",
    "    print('Ainda não temos a publicação deste dia!') "
   ]
  },
  {
   "cell_type": "code",
   "execution_count": null,
   "metadata": {
    "id": "IWwEQwjUCmlv"
   },
   "outputs": [],
   "source": [
    "def secao_1_filtro(data):\n",
    "  df1=df[df['data_publicacao'].astype(str).str.contains(data,regex=True,na=False)]\n",
    "  if (len(df1) != 0):\n",
    "    return df1[df1['titulo'].str.contains('DECRETO|MEDIDA PROVISÓRIA|LEI|EMENDA|CONSTITUIÇÃO',regex=True,na=False)]\n",
    "  else: \n",
    "    print('Ainda não temos a publicação deste dia!') "
   ]
  },
  {
   "cell_type": "code",
   "execution_count": 23,
   "metadata": {
    "colab": {
     "base_uri": "https://localhost:8080/"
    },
    "id": "cqBfgtJI5Zcn",
    "outputId": "1c92e4ce-932a-49b1-f322-eac5f995b819"
   },
   "outputs": [],
   "source": [
    "import datetime\n",
    "\n",
    "today = datetime.date.today()\n",
    "\n",
    "\n",
    "hoje = today.strftime(\"%Y-%m-%d\")\n",
    "ontem = str(today - datetime.timedelta(days=1))"
   ]
  },
  {
   "cell_type": "code",
   "execution_count": 25,
   "metadata": {},
   "outputs": [
    {
     "data": {
      "text/plain": [
       "'2021-09-10'"
      ]
     },
     "execution_count": 25,
     "metadata": {},
     "output_type": "execute_result"
    }
   ],
   "source": [
    "hoje"
   ]
  },
  {
   "cell_type": "code",
   "execution_count": 26,
   "metadata": {
    "collapsed": true,
    "id": "wVdTaW_i5Zix"
   },
   "outputs": [
    {
     "ename": "NameError",
     "evalue": "name 'secao_1_filtro' is not defined",
     "output_type": "error",
     "traceback": [
      "\u001b[1;31m---------------------------------------------------------------------------\u001b[0m",
      "\u001b[1;31mNameError\u001b[0m                                 Traceback (most recent call last)",
      "\u001b[1;32m<ipython-input-26-e46e5ce747b0>\u001b[0m in \u001b[0;36m<module>\u001b[1;34m\u001b[0m\n\u001b[1;32m----> 1\u001b[1;33m \u001b[0msecao_1_filtro\u001b[0m\u001b[1;33m(\u001b[0m\u001b[0mhoje\u001b[0m\u001b[1;33m)\u001b[0m\u001b[1;33m\u001b[0m\u001b[1;33m\u001b[0m\u001b[0m\n\u001b[0m",
      "\u001b[1;31mNameError\u001b[0m: name 'secao_1_filtro' is not defined"
     ]
    }
   ],
   "source": [
    "secao_1_filtro(hoje)"
   ]
  },
  {
   "cell_type": "code",
   "execution_count": null,
   "metadata": {
    "id": "aMZFZelN5Zlg"
   },
   "outputs": [],
   "source": []
  },
  {
   "cell_type": "code",
   "execution_count": null,
   "metadata": {
    "colab": {
     "base_uri": "https://localhost:8080/",
     "height": 130
    },
    "id": "PXn_NFdW5Zfg",
    "outputId": "4053ebc7-d21e-45cd-d38a-dec9e74cfbea"
   },
   "outputs": [],
   "source": [
    "\n",
    "\n"
   ]
  },
  {
   "cell_type": "code",
   "execution_count": 27,
   "metadata": {},
   "outputs": [
    {
     "ename": "ModuleNotFoundError",
     "evalue": "No module named 'slack'",
     "output_type": "error",
     "traceback": [
      "\u001b[1;31m---------------------------------------------------------------------------\u001b[0m",
      "\u001b[1;31mModuleNotFoundError\u001b[0m                       Traceback (most recent call last)",
      "\u001b[1;32m<ipython-input-27-4a278fc76c6d>\u001b[0m in \u001b[0;36m<module>\u001b[1;34m\u001b[0m\n\u001b[1;32m----> 1\u001b[1;33m \u001b[1;32mimport\u001b[0m \u001b[0mslack\u001b[0m\u001b[1;33m\u001b[0m\u001b[1;33m\u001b[0m\u001b[0m\n\u001b[0m\u001b[0;32m      2\u001b[0m \u001b[1;32mimport\u001b[0m \u001b[0mos\u001b[0m\u001b[1;33m\u001b[0m\u001b[1;33m\u001b[0m\u001b[0m\n\u001b[0;32m      3\u001b[0m \u001b[1;32mfrom\u001b[0m \u001b[0mpathlib\u001b[0m \u001b[1;32mimport\u001b[0m \u001b[0mPath\u001b[0m\u001b[1;33m\u001b[0m\u001b[1;33m\u001b[0m\u001b[0m\n\u001b[0;32m      4\u001b[0m \u001b[1;32mfrom\u001b[0m \u001b[0mdotenv\u001b[0m \u001b[1;32mimport\u001b[0m \u001b[0mload_dotenv\u001b[0m\u001b[1;33m\u001b[0m\u001b[1;33m\u001b[0m\u001b[0m\n\u001b[0;32m      5\u001b[0m \u001b[1;33m\u001b[0m\u001b[0m\n",
      "\u001b[1;31mModuleNotFoundError\u001b[0m: No module named 'slack'"
     ]
    }
   ],
   "source": [
    "import slack\n",
    "import os\n",
    "from pathlib import Path\n",
    "from dotenv import load_dotenv\n",
    "\n",
    "\n",
    "env_path = Path('.')/'.env'\n",
    "load_dotenv(dotenv_path=env_path)\n",
    "\n",
    "\n",
    "client = slack.WebClient(token=os.environ['SLACK_TOKEN_'])\n",
    "BOT_ID = client.api_call(\"auth.test\")['user_id']"
   ]
  }
 ],
 "metadata": {
  "colab": {
   "name": "Coleta DOU",
   "provenance": []
  },
  "kernelspec": {
   "display_name": "Python 3",
   "language": "python",
   "name": "python3"
  },
  "language_info": {
   "codemirror_mode": {
    "name": "ipython",
    "version": 3
   },
   "file_extension": ".py",
   "mimetype": "text/x-python",
   "name": "python",
   "nbconvert_exporter": "python",
   "pygments_lexer": "ipython3",
   "version": "3.8.5"
  }
 },
 "nbformat": 4,
 "nbformat_minor": 1
}
