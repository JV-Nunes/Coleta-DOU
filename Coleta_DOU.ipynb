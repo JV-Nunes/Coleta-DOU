{
  "nbformat": 4,
  "nbformat_minor": 0,
  "metadata": {
    "colab": {
      "name": "Coleta DOU",
      "provenance": []
    },
    "kernelspec": {
      "name": "python3",
      "display_name": "Python 3"
    },
    "language_info": {
      "name": "python"
    }
  },
  "cells": [
    {
      "cell_type": "markdown",
      "metadata": {
        "id": "DpdgoVeewEob"
      },
      "source": [
        "# Importando os dados do DOU"
      ]
    },
    {
      "cell_type": "code",
      "metadata": {
        "colab": {
          "base_uri": "https://localhost:8080/"
        },
        "id": "OqU8Oyc65AtP",
        "outputId": "fe9837c8-5fe9-4098-e9ba-5527b5bd602b"
      },
      "source": [
        "import pandas as pd\n",
        "import basedosdados as bd\n",
        "# Para carregar o dado direto no pandas\n",
        "df = bd.read_table(dataset_id='br_imprensa_nacional_dou', \n",
        "            table_id='secao_1',\n",
        "            billing_project_id='projeto-sql-318413')"
      ],
      "execution_count": 1,
      "outputs": [
        {
          "name": "stdout",
          "output_type": "stream",
          "text": [
            "Please visit this URL to authorize this application: https://accounts.google.com/o/oauth2/auth?response_type=code&client_id=262006177488-3425ks60hkk80fssi9vpohv88g6q1iqd.apps.googleusercontent.com&redirect_uri=urn%3Aietf%3Awg%3Aoauth%3A2.0%3Aoob&scope=https%3A%2F%2Fwww.googleapis.com%2Fauth%2Fcloud-platform&state=1Qt4Q5HKQakx36kxr4nG1Dg6TDpmvo&prompt=consent&access_type=offline\n",
            "Enter the authorization code: 4/1AX4XfWjABTpjqbCaDU_4IjcdXnlzTCwqTK6VCcu3CCS_drIKvETGlYa9bf8\n"
          ]
        },
        {
          "output_type": "stream",
          "name": "stderr",
          "text": [
            "Downloading: 100%|██████████| 156981/156981 [00:11<00:00, 13356.95rows/s]\n"
          ]
        }
      ]
    },
    {
      "cell_type": "code",
      "metadata": {
        "id": "HLIiMVteFlQK"
      },
      "source": [
        "pd.set_option('display.max_colwidth', None)"
      ],
      "execution_count": 2,
      "outputs": []
    },
    {
      "cell_type": "code",
      "metadata": {
        "id": "bb47VvKm5ZTC"
      },
      "source": [
        "def secao_1_inteira(data):\n",
        "  df1=df[df['data_publicacao'].astype(str).str.contains(data,regex=True,na=False)]\n",
        "  if (len(df1) != 0):\n",
        "    return df1\n",
        "  else: \n",
        "    print('Ainda não temos a publicação deste dia!') "
      ],
      "execution_count": 3,
      "outputs": []
    },
    {
      "cell_type": "code",
      "metadata": {
        "id": "IWwEQwjUCmlv"
      },
      "source": [
        "def secao_1_filtro(data):\n",
        "  df1=df[df['data_publicacao'].astype(str).str.contains(data,regex=True,na=False)]\n",
        "  if (len(df1) != 0):\n",
        "    #INSERIR OS FILTROS DESEJADOS NO REGEX ABAIXO\n",
        "    return df1[df1['titulo'].str.contains('DECRETO|MEDIDA PROVISÓRIA|LEI|EMENDA|CONSTITUIÇÃO',regex=True,na=False)] \n",
        "  else: \n",
        "    print('Ainda não temos a publicação deste dia!') "
      ],
      "execution_count": 8,
      "outputs": []
    },
    {
      "cell_type": "code",
      "metadata": {
        "id": "cqBfgtJI5Zcn"
      },
      "source": [
        "import datetime\n",
        "\n",
        "today = datetime.date.today()\n",
        "\n",
        "hoje = today.strftime(\"%Y-%m-%d\")\n",
        "ontem_date = today - datetime.timedelta(days=1)\n",
        "ontem = str(ontem_date)\n",
        "anteontem = str(ontem_date - datetime.timedelta(days=1))"
      ],
      "execution_count": 7,
      "outputs": []
    },
    {
      "cell_type": "code",
      "metadata": {
        "id": "wVdTaW_i5Zix"
      },
      "source": [
        "coleta=secao_1_filtro('2021-09-10')"
      ],
      "execution_count": 13,
      "outputs": []
    },
    {
      "cell_type": "code",
      "metadata": {
        "id": "aMZFZelN5Zlg"
      },
      "source": [
        "lista=[]\n",
        "for item in coleta['texto_principal']:\n",
        "    lista.append(str(item))"
      ],
      "execution_count": 14,
      "outputs": []
    },
    {
      "cell_type": "markdown",
      "metadata": {
        "id": "HT9oAid6wO2M"
      },
      "source": [
        "# Enviando a mensagem ao Slack"
      ]
    },
    {
      "cell_type": "code",
      "metadata": {
        "id": "PXn_NFdW5Zfg"
      },
      "source": [
        "import slack\n",
        "import os\n",
        "from pathlib import Path\n",
        "from dotenv import load_dotenv"
      ],
      "execution_count": 19,
      "outputs": []
    },
    {
      "cell_type": "code",
      "metadata": {
        "id": "Ru7waJ8F5ZqY"
      },
      "source": [
        "load_dotenv(dotenv_path='.env')\n",
        "slack_token = os.environ[\"SLACK_TOKEN\"]\n",
        "client = slack.WebClient(token=slack_token)\n",
        "\n",
        "for i in range(0,len(lista)):\n",
        "  client.chat_postMessage(channel='#random',text=lista[i])\n",
        "                "
      ],
      "execution_count": 24,
      "outputs": []
    }
  ]
}