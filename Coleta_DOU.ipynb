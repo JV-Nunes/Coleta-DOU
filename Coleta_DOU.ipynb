{
 "cells": [
  {
   "cell_type": "markdown",
   "metadata": {
    "id": "DpdgoVeewEob"
   },
   "source": [
    "# Importando os dados do DOU e aplicando filtro"
   ]
  },
  {
   "cell_type": "code",
   "execution_count": 1,
   "metadata": {
    "colab": {
     "base_uri": "https://localhost:8080/",
     "height": 1000
    },
    "id": "eZPlsfW4RaUy",
    "outputId": "0981c23f-aa05-4364-b4b4-8dd88f0f0030"
   },
   "outputs": [],
   "source": [
    "#Caso necessário, instalar os seguintes pacotes no ambiente de execução:\n",
    "!pip install basedosdados\n",
    "!pip install slackclient\n",
    "!pip install python-dotenv"
   ]
  },
  {
   "cell_type": "code",
   "execution_count": 2,
   "metadata": {
    "colab": {
     "base_uri": "https://localhost:8080/"
    },
    "id": "OqU8Oyc65AtP",
    "outputId": "bb3e4784-086a-44ae-a1bd-83f86c9841c7"
   },
   "outputs": [],
   "source": [
    "import pandas as pd\n",
    "import basedosdados as bd\n",
    "# Para carregar o dado direto no pandas\n",
    "df = bd.read_table(dataset_id='br_imprensa_nacional_dou', \n",
    "            table_id='secao_1',\n",
    "            billing_project_id=<PROJECT ID FROM GCP>)"
   ]
  },
  {
   "cell_type": "code",
   "execution_count": null,
   "metadata": {
    "id": "HLIiMVteFlQK"
   },
   "outputs": [],
   "source": [
    "pd.set_option('display.max_colwidth', None)"
   ]
  },
  {
   "cell_type": "code",
   "execution_count": null,
   "metadata": {
    "id": "cqBfgtJI5Zcn"
   },
   "outputs": [],
   "source": [
    "import datetime\n",
    "\n",
    "today = datetime.date.today()\n",
    "\n",
    "hoje = today.strftime(\"%Y-%m-%d\")\n",
    "ontem_date = today - datetime.timedelta(days=1)\n",
    "ontem = str(ontem_date)\n",
    "anteontem = str(ontem_date - datetime.timedelta(days=1))"
   ]
  },
  {
   "cell_type": "code",
   "execution_count": null,
   "metadata": {
    "id": "bb47VvKm5ZTC"
   },
   "outputs": [],
   "source": [
    "def secao_1_inteira(data):\n",
    "  df1=df[df['data_publicacao'].astype(str).str.contains(data,regex=True,na=False)]\n",
    "  if (len(df1) != 0):\n",
    "    return df1\n",
    "  else: \n",
    "    print('Ainda não temos a publicação deste dia!') "
   ]
  },
  {
   "cell_type": "code",
   "execution_count": null,
   "metadata": {
    "id": "IWwEQwjUCmlv"
   },
   "outputs": [],
   "source": [
    "def secao_1_filtro(data):\n",
    "  df1=df[df['data_publicacao'].astype(str).str.contains(data,regex=True,na=False)]\n",
    "  if (len(df1) != 0):\n",
    "    #INSERIR OS FILTROS DESEJADOS NO REGEX ABAIXO:\n",
    "    return df1[df1['titulo'].str.contains('DECRETO|MEDIDA PROVISÓRIA|LEI|EMENDA|CONSTITUIÇÃO',regex=True,na=False)] \n",
    "  df1=df[df['data_publicacao'].astype(str).str.contains(ontem,regex=True,na=False)]\n",
    "  check=df1[df1['titulo'].str.contains('DECRETO|MEDIDA PROVISÓRIA|LEI|EMENDA|CONSTITUIÇÃO',regex=True,na=False)]\n",
    "  if (len(check) !=0):\n",
    "      return check    \n",
    "  return print('Verificação concluída: Nenhuma lei publicada')  "
   ]
  },
  {
   "cell_type": "code",
   "execution_count": null,
   "metadata": {
    "id": "wVdTaW_i5Zix"
   },
   "outputs": [],
   "source": [
    "coleta=secao_1_filtro(hoje)"
   ]
  },
  {
   "cell_type": "code",
   "execution_count": null,
   "metadata": {
    "id": "aMZFZelN5Zlg"
   },
   "outputs": [],
   "source": [
    "lista=[]\n",
    "for item in coleta['texto_principal']:\n",
    "    lista.append(str(item))\n",
    "titulo=[]\n",
    "for item in coleta['titulo']:\n",
    "    titulo.append(str(item))\n",
    "ementa =[]\n",
    "for item in coleta['ementa']:\n",
    "    ementa.append(str(item))"
   ]
  },
  {
   "cell_type": "markdown",
   "metadata": {
    "id": "HT9oAid6wO2M"
   },
   "source": [
    "# Enviando a mensagem ao Slack"
   ]
  },
  {
   "cell_type": "code",
   "execution_count": null,
   "metadata": {
    "id": "PXn_NFdW5Zfg"
   },
   "outputs": [],
   "source": [
    "import slack\n",
    "import os\n",
    "from pathlib import Path\n",
    "from dotenv import load_dotenv"
   ]
  },
  {
   "cell_type": "code",
   "execution_count": null,
   "metadata": {
    "id": "Ru7waJ8F5ZqY"
   },
   "outputs": [],
   "source": [
    "load_dotenv(dotenv_path='.env')\n",
    "slack_token = os.environ[\"SLACK_TOKEN\"]\n",
    "client = slack.WebClient(token=slack_token)\n",
    "\n",
    "for i in range(0,len(lista)):\n",
    "    client.chat_postMessage(channel='#legislative-affairs',text=titulo[i])\n",
    "    client.chat_postMessage(channel='#legislative-affairs',text=ementa[i])\n",
    "  "
   ]
  },
  {
   "cell_type": "code",
   "execution_count": null,
   "metadata": {
    "id": "OyqWu9OL2ZVL"
   },
   "outputs": [],
   "source": [
    "#RODAR CASO QUEIRA EXECUTAR O TEXTO COMPLETO\n",
    "for i in range(0,len(lista)):\n",
    "    client.chat_postMessage(channel='#texto-completo',text=titulo[i])\n",
    "    client.chat_postMessage(channel='#texto-completo',text=lista[i])\n",
    "    client.chat_postMessage(channel='#texto-completo',text='::::::::::::::::::::::::::::::::::::::::::')"
   ]
  }
 ],
 "metadata": {
  "colab": {
   "collapsed_sections": [],
   "name": "Coleta DOU",
   "provenance": []
  },
  "kernelspec": {
   "display_name": "Python 3",
   "language": "python",
   "name": "python3"
  },
  "language_info": {
   "codemirror_mode": {
    "name": "ipython",
    "version": 3
   },
   "file_extension": ".py",
   "mimetype": "text/x-python",
   "name": "python",
   "nbconvert_exporter": "python",
   "pygments_lexer": "ipython3",
   "version": "3.8.5"
  }
 },
 "nbformat": 4,
 "nbformat_minor": 1
}
